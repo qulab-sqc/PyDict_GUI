{
 "cells": [
  {
   "cell_type": "markdown",
   "id": "b0a26428-f2bc-4a9e-9a67-3ea5efd9a234",
   "metadata": {},
   "source": [
    "# load Test json sample"
   ]
  },
  {
   "cell_type": "code",
   "execution_count": null,
   "id": "77d9c8d0-6dd4-4c63-adf0-8c0f28fc1e4d",
   "metadata": {
    "scrolled": true,
    "tags": []
   },
   "outputs": [],
   "source": [
    "import json\n",
    "\n",
    "path = \"test_sample.json\"\n",
    "with open(path, 'r') as f:\n",
    "    dict1 = json.load(f)"
   ]
  },
  {
   "cell_type": "markdown",
   "id": "fbebb785-382b-4808-b959-720080ba5c9d",
   "metadata": {
    "tags": []
   },
   "source": [
    "# Widget: search"
   ]
  },
  {
   "cell_type": "code",
   "execution_count": null,
   "id": "1b8eded7-2850-43f3-8a24-09331fec09b0",
   "metadata": {
    "scrolled": true,
    "tags": []
   },
   "outputs": [],
   "source": [
    "import sys\n",
    "import os\n",
    "# add repo path\n",
    "sys.path.append(os.path.abspath(\"..\"))\n",
    "\n",
    "from pydict_gui import app_search\n",
    "from pydict_gui import utils\n",
    "from importlib import reload\n",
    "reload(app_search)\n",
    "reload(utils)"
   ]
  },
  {
   "cell_type": "code",
   "execution_count": null,
   "id": "89a8daca-5588-4ecc-b382-0f1ce0fc2152",
   "metadata": {},
   "outputs": [],
   "source": [
    "app1 = app_search.App(dict1, save_path='test.json')\n",
    "app1.run()"
   ]
  },
  {
   "cell_type": "code",
   "execution_count": null,
   "id": "cd9e18a6-cc32-496d-9baa-e2a324031107",
   "metadata": {},
   "outputs": [],
   "source": []
  }
 ],
 "metadata": {
  "kernelspec": {
   "display_name": "Python 3 (ipykernel)",
   "language": "python",
   "name": "python3"
  },
  "language_info": {
   "codemirror_mode": {
    "name": "ipython",
    "version": 3
   },
   "file_extension": ".py",
   "mimetype": "text/x-python",
   "name": "python",
   "nbconvert_exporter": "python",
   "pygments_lexer": "ipython3",
   "version": "3.9.5"
  },
  "toc-autonumbering": true
 },
 "nbformat": 4,
 "nbformat_minor": 5
}
